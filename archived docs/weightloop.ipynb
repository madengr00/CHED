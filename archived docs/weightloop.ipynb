{
 "cells": [
  {
   "cell_type": "code",
   "execution_count": 534,
   "metadata": {},
   "outputs": [
    {
     "data": {
      "text/plain": [
       "0    [[1], [2], [3], [4], [5]]\n",
       "1         [[1], [2], [3], [4]]\n",
       "Name: name, dtype: object"
      ]
     },
     "execution_count": 534,
     "metadata": {},
     "output_type": "execute_result"
    }
   ],
   "source": [
    "# Import modules\n",
    "import pandas as pd\n",
    "\n",
    "\n",
    "df = pd.DataFrame({'name': [['Jason', 'Molly', 'Tina', 'Jake', 'Amy'],['Jason', 'Molly', 'Tina', 'Jake']]})\n",
    "df\n",
    "\n",
    "df2 = pd.DataFrame({'name': ['Jason', 'Molly', 'Tina', 'Jake', 'Amy'],'wt': ['1', '2', '3', '4', '5']})\n",
    "df2\n",
    "\n",
    "\n",
    "from functools import reduce\n",
    "\n",
    "for row in df['name']:\n",
    "    #for name in list\n",
    "\n",
    "    for n, i in enumerate(row):\n",
    "        #set value = match value wt\n",
    "        row[n] = (df2['wt'].loc[df2['name'] == i])  \n",
    "    \n",
    "df['name'].head()\n",
    "        #if i == \"Jason\":\n",
    "            #row[n] = \"Elizabeth\"\n",
    "            "
   ]
  },
  {
   "cell_type": "code",
   "execution_count": 540,
   "metadata": {},
   "outputs": [
    {
     "name": "stdout",
     "output_type": "stream",
     "text": [
      "1\n",
      "3\n",
      "6\n",
      "10\n",
      "15\n",
      "1\n",
      "3\n",
      "6\n",
      "10\n"
     ]
    },
    {
     "data": {
      "text/html": [
       "<div>\n",
       "<style scoped>\n",
       "    .dataframe tbody tr th:only-of-type {\n",
       "        vertical-align: middle;\n",
       "    }\n",
       "\n",
       "    .dataframe tbody tr th {\n",
       "        vertical-align: top;\n",
       "    }\n",
       "\n",
       "    .dataframe thead th {\n",
       "        text-align: right;\n",
       "    }\n",
       "</style>\n",
       "<table border=\"1\" class=\"dataframe\">\n",
       "  <thead>\n",
       "    <tr style=\"text-align: right;\">\n",
       "      <th></th>\n",
       "      <th>name</th>\n",
       "      <th>wt</th>\n",
       "    </tr>\n",
       "  </thead>\n",
       "  <tbody>\n",
       "    <tr>\n",
       "      <th>0</th>\n",
       "      <td>[[1], [2], [3], [4], [5]]</td>\n",
       "      <td>15</td>\n",
       "    </tr>\n",
       "    <tr>\n",
       "      <th>1</th>\n",
       "      <td>[[1], [2], [3], [4]]</td>\n",
       "      <td>10</td>\n",
       "    </tr>\n",
       "  </tbody>\n",
       "</table>\n",
       "</div>"
      ],
      "text/plain": [
       "                        name  wt\n",
       "0  [[1], [2], [3], [4], [5]]  15\n",
       "1       [[1], [2], [3], [4]]  10"
      ]
     },
     "execution_count": 540,
     "metadata": {},
     "output_type": "execute_result"
    }
   ],
   "source": [
    "def weight(data):\n",
    "    wt = 0\n",
    "    for row in data:\n",
    "        for x in row:\n",
    "            wt = wt + int(x)   \n",
    "            print(wt)\n",
    "    return wt\n",
    "            \n",
    "df['wt'] = df['name'].apply(weight)\n",
    "    \n",
    "df.head()"
   ]
  },
  {
   "cell_type": "code",
   "execution_count": null,
   "metadata": {},
   "outputs": [],
   "source": [
    "for row in df['name']:\n",
    "        wt = 0\n",
    "        for x in row:\n",
    "            wt = wt + int(x)   \n",
    "            print(wt)\n",
    "            df['wt'] = wt\n",
    "df.head()"
   ]
  },
  {
   "cell_type": "code",
   "execution_count": 464,
   "metadata": {},
   "outputs": [],
   "source": [
    "List = [[1], \n",
    "        [4], \n",
    "        [7]] "
   ]
  },
  {
   "cell_type": "code",
   "execution_count": 465,
   "metadata": {},
   "outputs": [
    {
     "name": "stdout",
     "output_type": "stream",
     "text": [
      "Initial List -  [[1], [4], [7]]\n"
     ]
    }
   ],
   "source": [
    "# Printing list of list \n",
    "print(\"Initial List - \", str(List))"
   ]
  },
  {
   "cell_type": "code",
   "execution_count": 466,
   "metadata": {},
   "outputs": [
    {
     "name": "stdout",
     "output_type": "stream",
     "text": [
      "final list -  [12]\n"
     ]
    }
   ],
   "source": [
    "# Using list comprehension \n",
    "res = [sum(i) for i in zip(*List)]     \n",
    "# printing result \n",
    "print(\"final list - \", str(res))"
   ]
  },
  {
   "cell_type": "code",
   "execution_count": null,
   "metadata": {},
   "outputs": [],
   "source": []
  }
 ],
 "metadata": {
  "kernelspec": {
   "display_name": "Python 3",
   "language": "python",
   "name": "python3"
  },
  "language_info": {
   "codemirror_mode": {
    "name": "ipython",
    "version": 3
   },
   "file_extension": ".py",
   "mimetype": "text/x-python",
   "name": "python",
   "nbconvert_exporter": "python",
   "pygments_lexer": "ipython3",
   "version": "3.6.5"
  }
 },
 "nbformat": 4,
 "nbformat_minor": 2
}
